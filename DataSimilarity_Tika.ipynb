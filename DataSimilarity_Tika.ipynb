{
 "cells": [
  {
   "cell_type": "markdown",
   "id": "0e126d9e",
   "metadata": {},
   "source": [
    "# Calculating Data Similarity using Tika"
   ]
  },
  {
   "cell_type": "markdown",
   "id": "a6c7681a",
   "metadata": {},
   "source": [
    "BLAH BLAH"
   ]
  },
  {
   "cell_type": "code",
   "execution_count": 1,
   "id": "c53185b5",
   "metadata": {},
   "outputs": [
    {
     "name": "stdout",
     "output_type": "stream",
     "text": [
      "Requirement already satisfied: certifi==2019.11.28 in /Users/alexdseo/opt/anaconda3/lib/python3.9/site-packages (from -r requirements.txt (line 1)) (2019.11.28)\n",
      "Requirement already satisfied: chardet==3.0.4 in /Users/alexdseo/opt/anaconda3/lib/python3.9/site-packages (from -r requirements.txt (line 2)) (3.0.4)\n",
      "Requirement already satisfied: editdistance==0.5.3 in /Users/alexdseo/opt/anaconda3/lib/python3.9/site-packages (from -r requirements.txt (line 3)) (0.5.3)\n",
      "Requirement already satisfied: idna==2.9 in /Users/alexdseo/opt/anaconda3/lib/python3.9/site-packages (from -r requirements.txt (line 4)) (2.9)\n",
      "Requirement already satisfied: nltk==3.4.5 in /Users/alexdseo/opt/anaconda3/lib/python3.9/site-packages (from -r requirements.txt (line 5)) (3.4.5)\n",
      "Requirement already satisfied: requests==2.23.0 in /Users/alexdseo/opt/anaconda3/lib/python3.9/site-packages (from -r requirements.txt (line 6)) (2.23.0)\n",
      "Requirement already satisfied: six==1.14.0 in /Users/alexdseo/opt/anaconda3/lib/python3.9/site-packages (from -r requirements.txt (line 7)) (1.14.0)\n",
      "Requirement already satisfied: tika==1.23.1 in /Users/alexdseo/opt/anaconda3/lib/python3.9/site-packages (from -r requirements.txt (line 8)) (1.23.1)\n",
      "Requirement already satisfied: urllib3==1.25.8 in /Users/alexdseo/opt/anaconda3/lib/python3.9/site-packages (from -r requirements.txt (line 9)) (1.25.8)\n",
      "Requirement already satisfied: wincertstore==0.2 in /Users/alexdseo/opt/anaconda3/lib/python3.9/site-packages (from -r requirements.txt (line 10)) (0.2)\n",
      "Requirement already satisfied: setuptools in /Users/alexdseo/opt/anaconda3/lib/python3.9/site-packages (from tika==1.23.1->-r requirements.txt (line 8)) (58.0.4)\n"
     ]
    }
   ],
   "source": [
    "#Install all the requriements\n",
    "!pip install -r requirements.txt"
   ]
  },
  {
   "cell_type": "code",
   "execution_count": null,
   "id": "7513378d",
   "metadata": {},
   "outputs": [],
   "source": [
    "#Cosine Similarity"
   ]
  },
  {
   "cell_type": "code",
   "execution_count": null,
   "id": "220a0a6d",
   "metadata": {},
   "outputs": [],
   "source": [
    "#Jaro Winkler Similarity"
   ]
  },
  {
   "cell_type": "code",
   "execution_count": null,
   "id": "343f9e80",
   "metadata": {},
   "outputs": [],
   "source": [
    "#Bell Curve fitting and Gaussian overlap"
   ]
  },
  {
   "cell_type": "code",
   "execution_count": null,
   "id": "e7368a19",
   "metadata": {},
   "outputs": [],
   "source": [
    "#Levenshtein Similarity"
   ]
  },
  {
   "cell_type": "code",
   "execution_count": null,
   "id": "ac6acebd",
   "metadata": {},
   "outputs": [],
   "source": [
    "#Euclidean Distance"
   ]
  },
  {
   "cell_type": "markdown",
   "id": "704d665b",
   "metadata": {},
   "source": [
    "We have 5 csv file now! Visualize it (Cluster it?)"
   ]
  },
  {
   "cell_type": "code",
   "execution_count": null,
   "id": "e0d8bad6",
   "metadata": {},
   "outputs": [],
   "source": [
    "#Clustering"
   ]
  },
  {
   "cell_type": "code",
   "execution_count": null,
   "id": "ad4d9c0c",
   "metadata": {},
   "outputs": [],
   "source": [
    "#Visualization"
   ]
  }
 ],
 "metadata": {
  "kernelspec": {
   "display_name": "Python 3 (ipykernel)",
   "language": "python",
   "name": "python3"
  },
  "language_info": {
   "codemirror_mode": {
    "name": "ipython",
    "version": 3
   },
   "file_extension": ".py",
   "mimetype": "text/x-python",
   "name": "python",
   "nbconvert_exporter": "python",
   "pygments_lexer": "ipython3",
   "version": "3.9.7"
  }
 },
 "nbformat": 4,
 "nbformat_minor": 5
}
